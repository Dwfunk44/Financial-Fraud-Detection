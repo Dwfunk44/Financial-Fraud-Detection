{
 "cells": [
  {
   "cell_type": "code",
   "execution_count": 2,
   "id": "e18811a4-78bf-4f52-b2b0-22b98f0263c8",
   "metadata": {},
   "outputs": [
    {
     "name": "stdout",
     "output_type": "stream",
     "text": [
      "   step  type    amount  oldbalanceOrg  newbalanceOrig  oldbalanceDest  \\\n",
      "0     1     3 -0.281560      -0.229810       -0.237622       -0.323814   \n",
      "1     1     3 -0.294767      -0.281359       -0.285812       -0.323814   \n",
      "2     1     4 -0.297555      -0.288654       -0.292442       -0.323814   \n",
      "3     1     1 -0.297555      -0.288654       -0.292442       -0.317582   \n",
      "4     1     3 -0.278532      -0.274329       -0.282221       -0.323814   \n",
      "\n",
      "   newbalanceDest  isFraud  isFlaggedFraud  amount_percentage  balance_diff  \n",
      "0       -0.333411        0               0           1.225185      0.007812  \n",
      "1       -0.333411        0               0           1.047654      0.004453  \n",
      "2       -0.333411        1               0           1.030836      0.003788  \n",
      "3       -0.333411        1               0           1.030836      0.003788  \n",
      "4       -0.333411        0               0           1.015320      0.007892  \n"
     ]
    }
   ],
   "source": [
    "import pandas as pd\n",
    "from sklearn.preprocessing import LabelEncoder, StandardScaler\n",
    "\n",
    "# Load the cleaned dataset\n",
    "df = pd.read_csv('cleaned_transactions.csv')  # Make sure the path is correct\n",
    "\n",
    "# 1. Handle Categorical Features\n",
    "# Convert 'type' column to numerical using Label Encoding\n",
    "label_encoder = LabelEncoder()\n",
    "df['type'] = label_encoder.fit_transform(df['type'])\n",
    "\n",
    "# Alternatively, if you prefer one-hot encoding (more suitable for many categories):\n",
    "# df = pd.get_dummies(df, columns=['type'], drop_first=True)\n",
    "\n",
    "# 2. Create New Features\n",
    "# Transaction amount as a percentage of the old balance\n",
    "df['amount_percentage'] = df['amount'] / df['oldbalanceOrg']\n",
    "\n",
    "# Balance difference (how much balance has changed after the transaction)\n",
    "df['balance_diff'] = df['oldbalanceOrg'] - df['newbalanceOrig']\n",
    "\n",
    "# Add any other useful features based on insights (for example, scaling amounts, balances, etc.)\n",
    "# You can also use step column to create features like transaction frequency over time\n",
    "\n",
    "# 3. Drop or Modify Unnecessary Columns\n",
    "# Drop 'nameOrig' and 'nameDest' as they are not directly useful for fraud detection\n",
    "df.drop(columns=['nameOrig', 'nameDest'], inplace=True)\n",
    "\n",
    "# 4. Scaling/Normalization\n",
    "scaler = StandardScaler()\n",
    "df[['amount', 'oldbalanceOrg', 'newbalanceOrig', 'oldbalanceDest', 'newbalanceDest']] = scaler.fit_transform(\n",
    "    df[['amount', 'oldbalanceOrg', 'newbalanceOrig', 'oldbalanceDest', 'newbalanceDest']])\n",
    "\n",
    "# Save the transformed dataset\n",
    "df.to_csv('engineered_transactions.csv', index=False)\n",
    "\n",
    "# Check the first few rows of the dataset after feature engineering\n",
    "print(df.head())\n"
   ]
  },
  {
   "cell_type": "code",
   "execution_count": null,
   "id": "b6d29f01-3604-4fa3-9c5f-92c1632dd4c0",
   "metadata": {},
   "outputs": [],
   "source": []
  }
 ],
 "metadata": {
  "kernelspec": {
   "display_name": "Python 3 (ipykernel)",
   "language": "python",
   "name": "python3"
  },
  "language_info": {
   "codemirror_mode": {
    "name": "ipython",
    "version": 3
   },
   "file_extension": ".py",
   "mimetype": "text/x-python",
   "name": "python",
   "nbconvert_exporter": "python",
   "pygments_lexer": "ipython3",
   "version": "3.13.1"
  }
 },
 "nbformat": 4,
 "nbformat_minor": 5
}
